{
  "nbformat": 4,
  "nbformat_minor": 0,
  "metadata": {
    "colab": {
      "provenance": [],
      "authorship_tag": "ABX9TyNJJclBZGAzYujGGOREpz/e",
      "include_colab_link": true
    },
    "kernelspec": {
      "name": "python3",
      "display_name": "Python 3"
    },
    "language_info": {
      "name": "python"
    }
  },
  "cells": [
    {
      "cell_type": "markdown",
      "metadata": {
        "id": "view-in-github",
        "colab_type": "text"
      },
      "source": [
        "<a href=\"https://colab.research.google.com/github/arpitpatelsitapur/my-py-torch-journey/blob/main/Pytorch_Autograd.ipynb\" target=\"_parent\"><img src=\"https://colab.research.google.com/assets/colab-badge.svg\" alt=\"Open In Colab\"/></a>"
      ]
    },
    {
      "cell_type": "code",
      "execution_count": 1,
      "metadata": {
        "id": "l6Sy1G8HJwxt"
      },
      "outputs": [],
      "source": [
        "import torch"
      ]
    },
    {
      "cell_type": "markdown",
      "source": [
        "## **Example1: y=x^2**"
      ],
      "metadata": {
        "id": "SIQt32x4LVGt"
      }
    },
    {
      "cell_type": "code",
      "source": [
        "# y=x^2\n",
        "\n",
        "def dy_dx(x):\n",
        "  return 2*x\n",
        "\n",
        "dy_dx(3)"
      ],
      "metadata": {
        "colab": {
          "base_uri": "https://localhost:8080/"
        },
        "id": "hP4CagjeKxGO",
        "outputId": "ae6993c1-8d44-42f5-9b78-11ca5ca03358"
      },
      "execution_count": 31,
      "outputs": [
        {
          "output_type": "execute_result",
          "data": {
            "text/plain": [
              "6"
            ]
          },
          "metadata": {},
          "execution_count": 31
        }
      ]
    },
    {
      "cell_type": "code",
      "source": [
        "x = torch.tensor(3.0, requires_grad=True)"
      ],
      "metadata": {
        "id": "kEfybjiXKw-O"
      },
      "execution_count": 32,
      "outputs": []
    },
    {
      "cell_type": "code",
      "source": [
        "y=x**2"
      ],
      "metadata": {
        "id": "z9BWZ2ypLLPa"
      },
      "execution_count": 33,
      "outputs": []
    },
    {
      "cell_type": "code",
      "source": [
        "x"
      ],
      "metadata": {
        "colab": {
          "base_uri": "https://localhost:8080/"
        },
        "id": "-gKYJHxILQWR",
        "outputId": "bc72e939-6ed3-468b-d90b-6e02a7bbd6c9"
      },
      "execution_count": 34,
      "outputs": [
        {
          "output_type": "execute_result",
          "data": {
            "text/plain": [
              "tensor(3., requires_grad=True)"
            ]
          },
          "metadata": {},
          "execution_count": 34
        }
      ]
    },
    {
      "cell_type": "code",
      "source": [
        "y"
      ],
      "metadata": {
        "colab": {
          "base_uri": "https://localhost:8080/"
        },
        "id": "hg_ul6ucLSFr",
        "outputId": "16fee1ba-5285-480c-82a1-3e7714164b33"
      },
      "execution_count": 35,
      "outputs": [
        {
          "output_type": "execute_result",
          "data": {
            "text/plain": [
              "tensor(9., grad_fn=<PowBackward0>)"
            ]
          },
          "metadata": {},
          "execution_count": 35
        }
      ]
    },
    {
      "cell_type": "code",
      "source": [
        "y.backward()"
      ],
      "metadata": {
        "id": "0fGB8vrIOQIe"
      },
      "execution_count": 36,
      "outputs": []
    },
    {
      "cell_type": "code",
      "source": [
        "x.grad"
      ],
      "metadata": {
        "colab": {
          "base_uri": "https://localhost:8080/"
        },
        "id": "cLWZZ4UQOSuV",
        "outputId": "50f81f06-990e-4bae-faa0-403d2679e1f7"
      },
      "execution_count": 37,
      "outputs": [
        {
          "output_type": "execute_result",
          "data": {
            "text/plain": [
              "tensor(6.)"
            ]
          },
          "metadata": {},
          "execution_count": 37
        }
      ]
    },
    {
      "cell_type": "markdown",
      "source": [
        "## **Example2: y=x^2 and z=sin(y)**"
      ],
      "metadata": {
        "id": "PBpaWSQmLb77"
      }
    },
    {
      "cell_type": "code",
      "source": [
        "import math\n",
        "\n",
        "# y=x^2\n",
        "# z=sin(y)\n",
        "\n",
        "def dz_dx(x):\n",
        "  return 2*x*math.cos(x**2)\n",
        "\n",
        "dz_dx(4)"
      ],
      "metadata": {
        "colab": {
          "base_uri": "https://localhost:8080/"
        },
        "id": "HJXArks8Lmdp",
        "outputId": "76dfe3dc-1a7b-4f70-86ed-9c03953a1bb6"
      },
      "execution_count": 38,
      "outputs": [
        {
          "output_type": "execute_result",
          "data": {
            "text/plain": [
              "-7.661275842587077"
            ]
          },
          "metadata": {},
          "execution_count": 38
        }
      ]
    },
    {
      "cell_type": "code",
      "source": [
        "x = torch.tensor(4.0, requires_grad=True)"
      ],
      "metadata": {
        "id": "a0qS8nMZNAPM"
      },
      "execution_count": 39,
      "outputs": []
    },
    {
      "cell_type": "code",
      "source": [
        "y=x**2"
      ],
      "metadata": {
        "id": "vQ3wjqPULnHz"
      },
      "execution_count": 40,
      "outputs": []
    },
    {
      "cell_type": "code",
      "source": [
        "x"
      ],
      "metadata": {
        "colab": {
          "base_uri": "https://localhost:8080/"
        },
        "id": "rYchO5AtLnE8",
        "outputId": "6a460e40-37e1-4fdd-fb05-43a632f7606d"
      },
      "execution_count": 41,
      "outputs": [
        {
          "output_type": "execute_result",
          "data": {
            "text/plain": [
              "tensor(4., requires_grad=True)"
            ]
          },
          "metadata": {},
          "execution_count": 41
        }
      ]
    },
    {
      "cell_type": "code",
      "source": [
        "y"
      ],
      "metadata": {
        "colab": {
          "base_uri": "https://localhost:8080/"
        },
        "id": "PSHJRv--LnB2",
        "outputId": "73f7817d-ba93-47dd-9086-8ab0a400c4b6"
      },
      "execution_count": 42,
      "outputs": [
        {
          "output_type": "execute_result",
          "data": {
            "text/plain": [
              "tensor(16., grad_fn=<PowBackward0>)"
            ]
          },
          "metadata": {},
          "execution_count": 42
        }
      ]
    },
    {
      "cell_type": "code",
      "source": [
        "z=torch.sin(y)"
      ],
      "metadata": {
        "id": "fbjWsMxbLm-y"
      },
      "execution_count": 43,
      "outputs": []
    },
    {
      "cell_type": "code",
      "source": [
        "z"
      ],
      "metadata": {
        "colab": {
          "base_uri": "https://localhost:8080/"
        },
        "id": "37Zedd9CLm6f",
        "outputId": "1f5a3b27-0766-4106-fbe7-54234132ed6d"
      },
      "execution_count": 44,
      "outputs": [
        {
          "output_type": "execute_result",
          "data": {
            "text/plain": [
              "tensor(-0.2879, grad_fn=<SinBackward0>)"
            ]
          },
          "metadata": {},
          "execution_count": 44
        }
      ]
    },
    {
      "cell_type": "code",
      "source": [
        "z.backward()"
      ],
      "metadata": {
        "id": "Y3cEcJ87Lm23"
      },
      "execution_count": 45,
      "outputs": []
    },
    {
      "cell_type": "code",
      "source": [
        "x.grad"
      ],
      "metadata": {
        "colab": {
          "base_uri": "https://localhost:8080/"
        },
        "id": "7WC8Su6ENRid",
        "outputId": "81892a4f-aa38-426b-b0b7-6c29dd90df55"
      },
      "execution_count": 46,
      "outputs": [
        {
          "output_type": "execute_result",
          "data": {
            "text/plain": [
              "tensor(-7.6613)"
            ]
          },
          "metadata": {},
          "execution_count": 46
        }
      ]
    },
    {
      "cell_type": "code",
      "source": [
        "y.grad"
      ],
      "metadata": {
        "colab": {
          "base_uri": "https://localhost:8080/"
        },
        "id": "qTFSCoaeNRWR",
        "outputId": "d6436f8b-2da6-436c-94c3-fae445b9c701"
      },
      "execution_count": 48,
      "outputs": [
        {
          "output_type": "stream",
          "name": "stderr",
          "text": [
            "/tmp/ipython-input-486760323.py:1: UserWarning: The .grad attribute of a Tensor that is not a leaf Tensor is being accessed. Its .grad attribute won't be populated during autograd.backward(). If you indeed want the .grad field to be populated for a non-leaf Tensor, use .retain_grad() on the non-leaf Tensor. If you access the non-leaf Tensor by mistake, make sure you access the leaf Tensor instead. See github.com/pytorch/pytorch/pull/30531 for more informations. (Triggered internally at /pytorch/build/aten/src/ATen/core/TensorBody.h:489.)\n",
            "  y.grad\n"
          ]
        }
      ]
    },
    {
      "cell_type": "markdown",
      "source": [
        "## **Example3: Perceptron - A neural network**"
      ],
      "metadata": {
        "id": "RFCAUFXSOzXL"
      }
    },
    {
      "cell_type": "code",
      "source": [
        "x=torch.tensor(8.72)\n",
        "y=torch.tensor(0)"
      ],
      "metadata": {
        "id": "zbq1o7u7RF9I"
      },
      "execution_count": 49,
      "outputs": []
    },
    {
      "cell_type": "code",
      "source": [
        "w=torch.tensor(1.0)\n",
        "b=torch.tensor(0.0)"
      ],
      "metadata": {
        "id": "_ZFavFr9RVhU"
      },
      "execution_count": 50,
      "outputs": []
    },
    {
      "cell_type": "code",
      "source": [
        "# forward pass\n",
        "# 1. z = w * x + b\n",
        "# 2. y_pred = sigmoid(z)\n",
        "# 3. calculate loss and apply gradient\n",
        "# L = (y_pred-y)**2\n",
        "# dL/dy_pred = 2*(y_pred-y)\n",
        "# dy_pred/dz = y_pred*(1-y_pred)\n",
        "# dz_dw = x\n",
        "# dz_db = 1\n",
        "\n",
        "z=w*x+b\n",
        "y_pred=torch.sigmoid(z)\n",
        "loss=(y_pred-y)**2\n",
        "\n",
        "# derivatives\n",
        "dL_dy_pred=2*(y_pred-y)\n",
        "dy_pred_dz=y_pred*(1-y_pred)\n",
        "dz_dw=x\n",
        "dz_db=1\n",
        "\n",
        "dL_dw = dL_dy_pred * dy_pred_dz * dz_dw\n",
        "dL_db = dL_dy_pred * dy_pred_dz * dz_db\n",
        "\n",
        "print(\"dL/dw : \",dL_dw)\n",
        "print(\"dL/db : \",dL_db)"
      ],
      "metadata": {
        "colab": {
          "base_uri": "https://localhost:8080/"
        },
        "id": "kXjTDI0KOn-o",
        "outputId": "1023335d-44c6-4772-8ce6-eaee4c6a60f4"
      },
      "execution_count": 53,
      "outputs": [
        {
          "output_type": "stream",
          "name": "stdout",
          "text": [
            "dL/dw :  tensor(0.0028)\n",
            "dL/db :  tensor(0.0003)\n"
          ]
        }
      ]
    },
    {
      "cell_type": "code",
      "source": [
        "x=torch.tensor(8.72)\n",
        "y=torch.tensor(0)\n",
        "w=torch.tensor(1.0, requires_grad=True)\n",
        "b=torch.tensor(0.0, requires_grad=True)\n",
        "\n",
        "z=w*x+b\n",
        "y_pred=torch.sigmoid(z)\n",
        "loss=(y_pred-y)**2\n",
        "loss.backward()\n",
        "w.grad,b.grad"
      ],
      "metadata": {
        "colab": {
          "base_uri": "https://localhost:8080/"
        },
        "id": "yRrY-wSrWA0S",
        "outputId": "a2e12be1-bf44-4822-b34f-0236866300c4"
      },
      "execution_count": 64,
      "outputs": [
        {
          "output_type": "execute_result",
          "data": {
            "text/plain": [
              "(tensor(0.0028), tensor(0.0003))"
            ]
          },
          "metadata": {},
          "execution_count": 64
        }
      ]
    },
    {
      "cell_type": "markdown",
      "source": [
        "## **Clearing gradients**"
      ],
      "metadata": {
        "id": "4BvavKDeWvD8"
      }
    },
    {
      "cell_type": "code",
      "source": [
        "w.grad.zero_()\n",
        "b.grad.zero_()\n",
        "\n",
        "w.grad,b.grad"
      ],
      "metadata": {
        "colab": {
          "base_uri": "https://localhost:8080/"
        },
        "id": "RrftXUIsTRHj",
        "outputId": "27dcb101-81a0-4fcb-ea02-ae5c89e4e6f0"
      },
      "execution_count": 65,
      "outputs": [
        {
          "output_type": "execute_result",
          "data": {
            "text/plain": [
              "(tensor(0.), tensor(0.))"
            ]
          },
          "metadata": {},
          "execution_count": 65
        }
      ]
    },
    {
      "cell_type": "markdown",
      "source": [
        "## **Disable Gradient Tracking**"
      ],
      "metadata": {
        "id": "_f1J1Kp0XVzE"
      }
    },
    {
      "cell_type": "code",
      "source": [
        "# option 1 - requires_grad_(False)\n",
        "# option 2 - detach()\n",
        "# option 3 - torch.no_grad()"
      ],
      "metadata": {
        "id": "isd354K2TRCF"
      },
      "execution_count": 66,
      "outputs": []
    },
    {
      "cell_type": "code",
      "source": [
        "w"
      ],
      "metadata": {
        "colab": {
          "base_uri": "https://localhost:8080/"
        },
        "id": "zcApfxx0XNzV",
        "outputId": "62750c72-e1ca-40c2-9b1d-8b1732182325"
      },
      "execution_count": 67,
      "outputs": [
        {
          "output_type": "execute_result",
          "data": {
            "text/plain": [
              "tensor(1., requires_grad=True)"
            ]
          },
          "metadata": {},
          "execution_count": 67
        }
      ]
    },
    {
      "cell_type": "code",
      "source": [
        "w.requires_grad_(False)"
      ],
      "metadata": {
        "colab": {
          "base_uri": "https://localhost:8080/"
        },
        "id": "Hjk95HgqXNri",
        "outputId": "feea7b6e-ccfe-4c81-95ac-e296cb554b19"
      },
      "execution_count": 68,
      "outputs": [
        {
          "output_type": "execute_result",
          "data": {
            "text/plain": [
              "tensor(1.)"
            ]
          },
          "metadata": {},
          "execution_count": 68
        }
      ]
    },
    {
      "cell_type": "code",
      "source": [
        "b"
      ],
      "metadata": {
        "colab": {
          "base_uri": "https://localhost:8080/"
        },
        "id": "h25V0MLLXz3q",
        "outputId": "8f7956eb-cc3e-4b3d-ac0a-bb17695018d6"
      },
      "execution_count": 72,
      "outputs": [
        {
          "output_type": "execute_result",
          "data": {
            "text/plain": [
              "tensor(0., requires_grad=True)"
            ]
          },
          "metadata": {},
          "execution_count": 72
        }
      ]
    },
    {
      "cell_type": "code",
      "source": [
        "a=b.detach()\n",
        "a"
      ],
      "metadata": {
        "colab": {
          "base_uri": "https://localhost:8080/"
        },
        "id": "jDNfSTdqXNiF",
        "outputId": "ff2714b5-b86d-4e53-995c-b684cdcc3b36"
      },
      "execution_count": 71,
      "outputs": [
        {
          "output_type": "execute_result",
          "data": {
            "text/plain": [
              "tensor(0.)"
            ]
          },
          "metadata": {},
          "execution_count": 71
        }
      ]
    },
    {
      "cell_type": "code",
      "source": [
        "with torch.no_grad():\n",
        "  z=w*x+b\n",
        "  print(z)"
      ],
      "metadata": {
        "colab": {
          "base_uri": "https://localhost:8080/"
        },
        "id": "xC3AQujTXx95",
        "outputId": "6fd9aab4-7f9d-4390-9e0b-73cce92e5c54"
      },
      "execution_count": 73,
      "outputs": [
        {
          "output_type": "stream",
          "name": "stdout",
          "text": [
            "tensor(8.7200)\n"
          ]
        }
      ]
    }
  ]
}