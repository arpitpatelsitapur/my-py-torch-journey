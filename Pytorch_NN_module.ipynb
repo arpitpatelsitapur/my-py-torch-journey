{
  "nbformat": 4,
  "nbformat_minor": 0,
  "metadata": {
    "colab": {
      "provenance": [],
      "authorship_tag": "ABX9TyMnvNxE1XDPZg2iToq4cI/L",
      "include_colab_link": true
    },
    "kernelspec": {
      "name": "python3",
      "display_name": "Python 3"
    },
    "language_info": {
      "name": "python"
    }
  },
  "cells": [
    {
      "cell_type": "markdown",
      "metadata": {
        "id": "view-in-github",
        "colab_type": "text"
      },
      "source": [
        "<a href=\"https://colab.research.google.com/github/arpitpatelsitapur/my-py-torch-journey/blob/main/Pytorch_NN_module.ipynb\" target=\"_parent\"><img src=\"https://colab.research.google.com/assets/colab-badge.svg\" alt=\"Open In Colab\"/></a>"
      ]
    },
    {
      "cell_type": "code",
      "source": [
        "!pip install torchinfo"
      ],
      "metadata": {
        "colab": {
          "base_uri": "https://localhost:8080/"
        },
        "id": "5VgaBhMdOYP2",
        "outputId": "b2c7ee81-ab3e-4b12-8f40-187d5df3eafa"
      },
      "execution_count": 9,
      "outputs": [
        {
          "output_type": "stream",
          "name": "stdout",
          "text": [
            "Requirement already satisfied: torchinfo in /usr/local/lib/python3.12/dist-packages (1.8.0)\n"
          ]
        }
      ]
    },
    {
      "cell_type": "code",
      "source": [
        "import pandas as pd\n",
        "import numpy as np\n",
        "import torch\n",
        "import torch.nn as nn\n",
        "from torchinfo import summary\n",
        "import torch.optim as optim\n",
        "from sklearn.preprocessing import LabelEncoder\n",
        "from sklearn.preprocessing import StandardScaler\n",
        "from sklearn.model_selection import train_test_split"
      ],
      "metadata": {
        "id": "m7G846CFVtOB"
      },
      "execution_count": 12,
      "outputs": []
    },
    {
      "cell_type": "code",
      "source": [
        "# data preprocessing\n",
        "df=pd.read_csv(\"https://raw.githubusercontent.com/gscdit/Breast-cancer-Detection/refs/heads/master/data.csv\")\n",
        "df.drop([\"Unnamed: 32\",\"id\"],axis=1,inplace=True)\n",
        "\n",
        "X=df.drop([\"diagnosis\"],axis=1)\n",
        "y=df[\"diagnosis\"]\n",
        "\n",
        "le=LabelEncoder()\n",
        "y=le.fit_transform(y)\n",
        "\n",
        "sc=StandardScaler()\n",
        "X=sc.fit_transform(X)\n",
        "\n",
        "X_train,X_test,y_train,y_test=train_test_split(X,y,test_size=0.2,random_state=0)"
      ],
      "metadata": {
        "id": "r-C7H_37V1wJ"
      },
      "execution_count": 13,
      "outputs": []
    },
    {
      "cell_type": "code",
      "execution_count": 14,
      "metadata": {
        "id": "0KWlur7L8ZtW"
      },
      "outputs": [],
      "source": [
        "X_train_t = torch.tensor(X_train, dtype=torch.float32)\n",
        "y_train_t = torch.tensor(y_train, dtype=torch.float32).view(-1, 1)\n",
        "X_test_t = torch.tensor(X_test, dtype=torch.float32)\n",
        "y_test_t = torch.tensor(y_test, dtype=torch.float32).view(-1, 1)"
      ]
    },
    {
      "cell_type": "code",
      "source": [
        "# Define model\n",
        "class SimpleNN(nn.Module):\n",
        "    def __init__(self, input_size, hidden_size):\n",
        "        super(SimpleNN, self).__init__()\n",
        "        self.fc1 = nn.Linear(input_size, hidden_size)\n",
        "        self.fc2 = nn.Linear(hidden_size, 1)\n",
        "\n",
        "    def forward(self, x):\n",
        "        x = torch.relu(self.fc1(x))      # hidden layer with ReLU\n",
        "        x = torch.sigmoid(self.fc2(x))   # output with Sigmoid\n",
        "        return x"
      ],
      "metadata": {
        "id": "7rgyr55OXSPZ"
      },
      "execution_count": 15,
      "outputs": []
    },
    {
      "cell_type": "code",
      "source": [
        "# Hyperparameters\n",
        "input_size = 30\n",
        "hidden_size = 16\n",
        "num_epochs = 20\n",
        "lr = 0.001\n",
        "\n",
        "model = SimpleNN(input_size, hidden_size)\n",
        "criterion = nn.BCELoss()\n",
        "optimizer = optim.Adam(model.parameters(), lr=lr)"
      ],
      "metadata": {
        "id": "a84yxm2dihbg"
      },
      "execution_count": 16,
      "outputs": []
    },
    {
      "cell_type": "code",
      "source": [
        "summary(model)"
      ],
      "metadata": {
        "colab": {
          "base_uri": "https://localhost:8080/"
        },
        "id": "EQZmxZBwi0DF",
        "outputId": "f6be0e18-e24c-46e9-bff0-7a3cdcb299c4"
      },
      "execution_count": 18,
      "outputs": [
        {
          "output_type": "execute_result",
          "data": {
            "text/plain": [
              "=================================================================\n",
              "Layer (type:depth-idx)                   Param #\n",
              "=================================================================\n",
              "SimpleNN                                 --\n",
              "├─Linear: 1-1                            496\n",
              "├─Linear: 1-2                            17\n",
              "=================================================================\n",
              "Total params: 513\n",
              "Trainable params: 513\n",
              "Non-trainable params: 0\n",
              "================================================================="
            ]
          },
          "metadata": {},
          "execution_count": 18
        }
      ]
    },
    {
      "cell_type": "code",
      "source": [
        "# Training (whole dataset each epoch)\n",
        "for epoch in range(num_epochs):\n",
        "    outputs = model(X_train_t)\n",
        "    loss = criterion(outputs, y_train_t)\n",
        "\n",
        "    optimizer.zero_grad()\n",
        "    loss.backward()\n",
        "    optimizer.step()\n",
        "\n",
        "    print(f\"Epoch [{epoch+1}/{num_epochs}], Loss: {loss.item():.4f}\")"
      ],
      "metadata": {
        "colab": {
          "base_uri": "https://localhost:8080/"
        },
        "id": "DkvzApI0iov9",
        "outputId": "0bdc96ae-cf82-44e1-f71d-bbdf925aabb0"
      },
      "execution_count": 19,
      "outputs": [
        {
          "output_type": "stream",
          "name": "stdout",
          "text": [
            "Epoch [1/20], Loss: 0.6552\n",
            "Epoch [2/20], Loss: 0.6481\n",
            "Epoch [3/20], Loss: 0.6411\n",
            "Epoch [4/20], Loss: 0.6343\n",
            "Epoch [5/20], Loss: 0.6276\n",
            "Epoch [6/20], Loss: 0.6210\n",
            "Epoch [7/20], Loss: 0.6145\n",
            "Epoch [8/20], Loss: 0.6081\n",
            "Epoch [9/20], Loss: 0.6018\n",
            "Epoch [10/20], Loss: 0.5957\n",
            "Epoch [11/20], Loss: 0.5895\n",
            "Epoch [12/20], Loss: 0.5835\n",
            "Epoch [13/20], Loss: 0.5775\n",
            "Epoch [14/20], Loss: 0.5716\n",
            "Epoch [15/20], Loss: 0.5657\n",
            "Epoch [16/20], Loss: 0.5599\n",
            "Epoch [17/20], Loss: 0.5540\n",
            "Epoch [18/20], Loss: 0.5483\n",
            "Epoch [19/20], Loss: 0.5426\n",
            "Epoch [20/20], Loss: 0.5369\n"
          ]
        }
      ]
    },
    {
      "cell_type": "code",
      "source": [
        "# Testing\n",
        "model.eval()\n",
        "with torch.no_grad():\n",
        "    outputs = model(X_test_t)\n",
        "    predicted = (outputs >= 0.5).float()\n",
        "    accuracy = (predicted.eq(y_test_t).sum().item() / y_test_t.size(0)) * 100\n",
        "\n",
        "print(f\"Test Accuracy: {accuracy:.2f}%\")"
      ],
      "metadata": {
        "colab": {
          "base_uri": "https://localhost:8080/"
        },
        "id": "C5rX0xmTjggT",
        "outputId": "5d4c00f6-1a5b-4230-bd81-d340d64a3406"
      },
      "execution_count": 20,
      "outputs": [
        {
          "output_type": "stream",
          "name": "stdout",
          "text": [
            "Test Accuracy: 85.96%\n"
          ]
        }
      ]
    }
  ]
}